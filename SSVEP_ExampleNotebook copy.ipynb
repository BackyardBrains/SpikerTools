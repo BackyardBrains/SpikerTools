{
  "cells": [
    {
      "cell_type": "markdown",
      "metadata": {},
      "source": [
        "# SSVEP Example"
      ]
    },
    {
      "cell_type": "markdown",
      "metadata": {},
      "source": [
        "In this notebook, we will be using the SpikerTools library to analyze some SSVEP data from a session! Let's talk about the data first. This was recorded from one of Backyard Brains' devices using the Spike Recorder app. \n",
        "\n",
        "The SSVEP is a brain signal that arises when the retina is excited with a visual stimulus that flickers at a certain frequency f, usually ranging between 3.5 Hz and 75 Hz. The SSVEP has a frequency equal to f and/or multiples of f in this case. \n",
        "\n",
        "The goal is to detect the SSVEP in the EEG signal by analyzing the frequency distribution!"
      ]
    },
    {
      "cell_type": "code",
      "execution_count": 1,
      "metadata": {},
      "outputs": [
        {
          "name": "stderr",
          "output_type": "stream",
          "text": [
            "c:\\Users\\USER\\Desktop\\SpikerTools\\BYBRepo\\SpikerTools\\spikertools.py:117: SyntaxWarning: assertion is always true, perhaps remove parentheses?\n",
            "  assert (isinstance(cutoff, list), \"Must specify 2-element list\")\n",
            "c:\\Users\\USER\\Desktop\\SpikerTools\\BYBRepo\\SpikerTools\\spikertools.py:123: SyntaxWarning: assertion is always true, perhaps remove parentheses?\n",
            "  assert (isinstance(cutoff, list), \"Must specify 2-element list\")\n",
            "c:\\Users\\USER\\Desktop\\SpikerTools\\BYBRepo\\SpikerTools\\spikertools.py:161: SyntaxWarning: assertion is always true, perhaps remove parentheses?\n",
            "  assert((isinstance(norm_value, float) or isinstance(norm_value, int)), \"Must specify number for scalar\")\n"
          ]
        }
      ],
      "source": [
        "import spikertools as sp"
      ]
    }
  ],
  "metadata": {
    "colab": {
      "name": "AlphaWaves_ExampleNotebook.ipynb",
      "provenance": []
    },
    "kernelspec": {
      "display_name": "Python 3",
      "name": "python3"
    },
    "language_info": {
      "codemirror_mode": {
        "name": "ipython",
        "version": 3
      },
      "file_extension": ".py",
      "mimetype": "text/x-python",
      "name": "python",
      "nbconvert_exporter": "python",
      "pygments_lexer": "ipython3",
      "version": "3.9.9"
    }
  },
  "nbformat": 4,
  "nbformat_minor": 0
}
